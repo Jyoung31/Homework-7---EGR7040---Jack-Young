{
 "cells": [
  {
   "cell_type": "code",
   "execution_count": 1,
   "metadata": {},
   "outputs": [],
   "source": [
    "from IPython.core.display import display, HTML\n",
    "display(HTML(\"<style>.container { width:95% !important; }</style>\"))\n",
    "from ipywidgets import interactive,widgets"
   ]
  },
  {
   "cell_type": "code",
   "execution_count": 2,
   "metadata": {},
   "outputs": [],
   "source": [
    "def fx_fun(xi):\n",
    "    from numpy import asarray\n",
    "    x1=xi[0]\n",
    "    x2=xi[1]\n",
    "    #y= -(2*xi[0]+3*xi[1]-xi[0]**3-2*xi[1]**2);\n",
    "    #y=0.5*xi[0]**2+xi[1]**2-xi[0]*xi[1]-7*xi[0]-7*xi[1];\n",
    "    y=10*x1**4-(20*x1**2)*x2+10*x2**2+x1**2-2*x1+5\n",
    "    dydx1=40*x1**3 - 40*x1*x2 + 2*x1 - 22;\n",
    "    dydx2=-20*x1**2 + 20*x2;\n",
    "    df= asarray([dydx1,dydx2])\n",
    "    return y,df"
   ]
  },
  {
   "cell_type": "code",
   "execution_count": 3,
   "metadata": {},
   "outputs": [],
   "source": [
    "def gx_fun(x):\n",
    "    from numpy import transpose\n",
    "    x1=x[0]\n",
    "    x2=x[1]\n",
    "    g1=-2-x1\n",
    "    g2=x1-0.5\n",
    "    g3=-0.5-x2\n",
    "    g4=x2-4.5\n",
    "    g=[g1,g2,g3,g4]\n",
    "    dg1dx=[-1, 1, 0, 0]\n",
    "    dg2dx=[0, 0, -1, 1]\n",
    "    dg=transpose([dg1dx,dg2dx])\n",
    "    h=[]\n",
    "    dh=[]\n",
    "    return g,dg#,h,dh"
   ]
  },
  {
   "cell_type": "code",
   "execution_count": 23,
   "metadata": {},
   "outputs": [],
   "source": [
    "def SLP(ML):\n",
    "    import time\n",
    "    import matplotlib.pyplot as plt\n",
    "    from numpy import arange,meshgrid,zeros,matrix,asarray,transpose,amax,amin,ones,dot,linalg,append\n",
    "    from scipy.optimize import linprog\n",
    "    from matplotlib.pyplot import xlim,ylim,legend,title,xlabel,ylabel\n",
    "    \n",
    "    xs1=arange(-2.5,4.5,.01)\n",
    "    [x1,x2]=meshgrid(xs1,xs1)\n",
    "    a=len(x1)\n",
    "    b=len(x2)\n",
    "    f=zeros([a,b])\n",
    "    g1=zeros([a,b])\n",
    "    g2=zeros([a,b])\n",
    "    g3=zeros([a,b])\n",
    "    g4=zeros([a,b])\n",
    "\n",
    "    for i in range(a):\n",
    "        for j in range(b):\n",
    "            xi=[x1[i,j],x2[i,j]]\n",
    "            #print(\"xi:\"+str(xi))#really big if unsupressed\n",
    "            fk,dfk=fx_fun(xi)\n",
    "            gk,dgk=gx_fun(xi)\n",
    "            f[i,j]=fk\n",
    "            g1[i,j]=gk[0]\n",
    "            g2[i,j]=gk[1]\n",
    "            g3[i,j]=gk[2]\n",
    "            g4[i,j]=gk[3]\n",
    "    fig,ax=plt.subplots()\n",
    "    CS=ax.contour(x1,x2,f,levels=[4.25,4.6,5,7.5,10,20,30,40,50,60,70,80,90,100,110,120,130,140,150],cmap='turbo')#levels=[4.6,5,7.5,10,20,30,40,50,60,70,80,90,100,110,120,130,140,150]\n",
    "    colorbar=plt.colorbar(CS)\n",
    "    colorbar.set_label(\"Objective Function Value\",fontsize=24)\n",
    "    #ax.clabel(CS,CS.levels,inline=True,fontsize=12)\n",
    "    cv1=asarray([0.001, 0.0011])\n",
    "    cv1=cv1*amax(g1)\n",
    "    ax.contour(x1,x2,g1,cv1,cmap='Greys')\n",
    "    cv2=asarray([0.001, 0.0011])*amax(g2)\n",
    "    ax.contour(x1,x2,g2,cv2,cmap='Greys')\n",
    "    cv3=asarray([0.001, 0.0015])*amax(g3)\n",
    "    ax.contour(x1,x2,g3,cv3,cmap='Greys')\n",
    "    cv4=asarray([0.05, 0.0499])*amin(g4)\n",
    "    ax.contour(x1,x2,g4,cv4,cmap='Greys')\n",
    "    fig.set_size_inches(14*1.5, 9*1.5) \n",
    "    xlim([-2.5,1])\n",
    "    ylim([-1,4.25])\n",
    "    DVn=2\n",
    "    xk=transpose([-1,3.5])\n",
    "    tol=.0001\n",
    "    k=0\n",
    "    iterN=int(0)\n",
    "    iter_x_history=[]\n",
    "    iter_y_history=[]\n",
    "    iter_g_history=[]\n",
    "\n",
    "    #ML=.1\n",
    "    old_dxp=xk\n",
    "    #print(\"xk:\"+str(xk))\n",
    "    c=.5\n",
    "    start=time.perf_counter()\n",
    "    while 1:\n",
    "\n",
    "        \n",
    "        iterN=iterN+1\n",
    "        fk,dfk=fx_fun(xk)\n",
    "        gk,dgk=gx_fun(xk)\n",
    "        #print(\"fk:\"+str(fk))\n",
    "        #print(\"dfk:\"+str(dfk))\n",
    "        #print(\"gk:\"+str(gk))\n",
    "        #print(\"dgk:\"+str(dgk))\n",
    "\n",
    "        iter_x_history=append(iter_x_history,xk[0])\n",
    "        iter_y_history=append(iter_y_history,xk[1])\n",
    "        iter_g_history=append(iter_g_history,gk)\n",
    "        #scatter3 from matlab code not here because of matplotlib loop plotting issue encountered values are instead stored then plotted after while loop.\n",
    "        ci=asarray(dfk[:])\n",
    "        A=asarray(dgk)\n",
    "        b=-asarray(gk)\n",
    "        #print(\"ci:\"+str(ci))\n",
    "        #print(\"A:\"+str(A))\n",
    "        #print(\"b:\"+str(b))\n",
    "\n",
    "        if linalg.norm(ci)<tol or iterN>1000:\n",
    "            stop=time.perf_counter()\n",
    "            break\n",
    "        bound1=(-ML,ML)\n",
    "        #print(\"bound1:\"+str(bound1))\n",
    "        bound2=(-ML,ML)\n",
    "        #print(\"bound2:\"+str(bound2))\n",
    "        res=linprog(ci,A_ub=A,b_ub=b,\\\n",
    "                    method='revised simplex',bounds=(bound1,bound2))#,options={\"disp\":True})\n",
    "        #print(\"res:\"+str(res))\n",
    "        #break\n",
    "        dxp=res[\"x\"]\n",
    "        fval=res[\"fun\"]\n",
    "        #print(\"fval:\"+str(fval))\n",
    "        #print(\"dxp:\"+str(dxp))\n",
    "        xlp=xk+dxp\n",
    "        xk=xlp[:]\n",
    "        #print(\"xk:\"+str(xk))\n",
    "        angle=dot(old_dxp,dxp)/linalg.norm(old_dxp)*linalg.norm(dxp)\n",
    "        #print(\"angle:\"+str(angle))\n",
    "\n",
    "        if angle<(-.8):\n",
    "            ML=ML*c\n",
    "\n",
    "    elapsed=stop-start\n",
    "    #print(str(elapsed)+\" seconds calculation time\");\n",
    "    f_opt=fx_fun([xk[0],xk[1]])\n",
    "    #print(f_opt[0])\n",
    "    #print(iter_x_history)      \n",
    "    ax.plot(iter_x_history,iter_y_history,color='grey',label='Search Path',linewidth=2)\n",
    "    ax.scatter(iter_x_history,iter_y_history,10,color='blue',label='Search Point')\n",
    "    ax.scatter(iter_x_history[0],iter_y_history[0],100,color='black',label='Starting $x_k$')\n",
    "    ax.scatter(xk[0],xk[1],100,color='red',label='Optimum Design Point: ['+str(round(xk[0],5))+\", \"+str(round(xk[1],5))+'] at f='+str(round(f_opt[0],6))+'\\nConverged after: '+str(iterN)+' loops and '+str(round(elapsed,8))+' seconds')\n",
    "    legend(loc=3,fontsize=24)\n",
    "    title(\"Sequential Linear Programming Method Python Implementation\",fontsize=24,pad=10)\n",
    "    xlabel(\"$x_1$ value\",fontsize=24)\n",
    "    ylabel(\"$x_2$ value\",fontsize=24);\n",
    "    #print(iter_x_history)\n",
    "    #print(iter_y_history)\n",
    "    #print(\"xk:\"+str(xk))\n",
    "    xk_final=[xk[0],xk[1]]\n",
    "    return f_opt,xk_final"
   ]
  },
  {
   "cell_type": "code",
   "execution_count": 24,
   "metadata": {
    "scrolled": false
   },
   "outputs": [
    {
     "data": {
      "application/vnd.jupyter.widget-view+json": {
       "model_id": "a0b180e09e6c4d0ba40defba2c33ff82",
       "version_major": 2,
       "version_minor": 0
      },
      "text/plain": [
       "interactive(children=(Dropdown(description='ML', options=(0.01, 0.02, 0.03, 0.04, 0.05, 0.06, 0.07, 0.08, 0.09…"
      ]
     },
     "metadata": {},
     "output_type": "display_data"
    }
   ],
   "source": [
    "interactive(SLP,ML=[.01,.02,.03,.04,.05,.06,.07,.08,.09,.1])"
   ]
  },
  {
   "cell_type": "code",
   "execution_count": null,
   "metadata": {},
   "outputs": [],
   "source": []
  },
  {
   "cell_type": "code",
   "execution_count": null,
   "metadata": {},
   "outputs": [],
   "source": []
  }
 ],
 "metadata": {
  "kernelspec": {
   "display_name": "Python 3",
   "language": "python",
   "name": "python3"
  },
  "language_info": {
   "codemirror_mode": {
    "name": "ipython",
    "version": 3
   },
   "file_extension": ".py",
   "mimetype": "text/x-python",
   "name": "python",
   "nbconvert_exporter": "python",
   "pygments_lexer": "ipython3",
   "version": "3.8.3"
  }
 },
 "nbformat": 4,
 "nbformat_minor": 4
}
