{
 "cells": [
  {
   "cell_type": "code",
   "execution_count": 2,
   "metadata": {
    "scrolled": false
   },
   "outputs": [
    {
     "data": {
      "text/html": [
       "<style>.container { width:95% !important; }</style>"
      ],
      "text/plain": [
       "<IPython.core.display.HTML object>"
      ]
     },
     "metadata": {},
     "output_type": "display_data"
    }
   ],
   "source": [
    "from IPython.core.display import display, HTML\n",
    "display(HTML(\"<style>.container { width:95% !important; }</style>\"))\n",
    "from ipywidgets import interactive,widgets\n",
    "import time\n",
    "import matplotlib.pyplot as plt\n",
    "#%matplotlib tk"
   ]
  },
  {
   "cell_type": "code",
   "execution_count": 3,
   "metadata": {
    "scrolled": false
   },
   "outputs": [],
   "source": [
    "from golden_section_fx_gx import *\n",
    "from fx_fun import *\n",
    "from gx_fun import *"
   ]
  },
  {
   "cell_type": "code",
   "execution_count": 4,
   "metadata": {
    "scrolled": false
   },
   "outputs": [],
   "source": [
    "def gx_fun(x):\n",
    "    from numpy import transpose\n",
    "    x1=x[0]\n",
    "    x2=x[1]\n",
    "    g1=-2-x1\n",
    "    g2=x1-0.5\n",
    "    g3=-0.5-x2\n",
    "    g4=x2-4.5\n",
    "    g=[g1,g2,g3,g4]\n",
    "    dg1dx=[-1., 1., 0., 0.]\n",
    "    dg2dx=[0., 0., -1., 1.]\n",
    "    dg=transpose([dg1dx,dg2dx])\n",
    "    h=[]\n",
    "    dh=[]\n",
    "    return g,dg,h,dh"
   ]
  },
  {
   "cell_type": "code",
   "execution_count": 5,
   "metadata": {
    "scrolled": false
   },
   "outputs": [],
   "source": [
    "from qpsolvers import solve_qp,quadprog_solve_qp\n",
    "\n",
    "\n",
    "#https://pypi.org/project/qpsolvers/"
   ]
  },
  {
   "cell_type": "code",
   "execution_count": 12,
   "metadata": {
    "scrolled": false
   },
   "outputs": [],
   "source": [
    "def SQP(angle,angle2,dimensions,colormap,vmax):\n",
    "    import time\n",
    "    import matplotlib.pyplot as plt\n",
    "    from numpy import arange,meshgrid,zeros,matrix,asarray,transpose,amax,amin,ones,dot,linalg,append,eye,array,linspace\n",
    "    from scipy.optimize import linprog\n",
    "    from matplotlib.ticker import LinearLocator, FixedLocator, FormatStrFormatter#,set_scale\n",
    "    from matplotlib.pyplot import xlim,ylim,legend,title,xlabel,ylabel\n",
    "    xs1=linspace(-2.1,1,50)\n",
    "    xs2=linspace(-.6,4.5,50)\n",
    "    [x1,x2]=meshgrid(xs1,xs2)\n",
    "    a=len(x1)\n",
    "    b=len(x2)\n",
    "    f=zeros([a,b])\n",
    "    g1=zeros([a,b])\n",
    "    g2=zeros([a,b])\n",
    "    g3=zeros([a,b])\n",
    "    g4=zeros([a,b])\n",
    "\n",
    "    for i in range(a):\n",
    "        for j in range(b):\n",
    "            xi=[x1[i,j],x2[i,j]]\n",
    "            #print(\"xi:\"+str(xi))#really big if unsupressed\n",
    "            fk,dfk=fx_fun(xi)\n",
    "            gk,dgk,h,dh=gx_fun(xi)\n",
    "            f[i,j]=fk\n",
    "            g1[i,j]=gk[0]\n",
    "            g2[i,j]=gk[1]\n",
    "            g3[i,j]=gk[2]\n",
    "            g4[i,j]=gk[3]\n",
    "    if dimensions==2:\n",
    "        fig,ax=plt.subplots()\n",
    "        CS2=ax.contourf(x1,x2,f,1000,vmin=0,vmax=vmax,cmap=str(colormap))#levels=[4.6,5,7.5,10,20,30,40,50,60,70,80,90,100,110,120,130,140,150]\n",
    "        colorbar=plt.colorbar(CS2)\n",
    "        colorbar.set_label(\"Objective Function Value\",fontsize=24)\n",
    "        #ax.clabel(CS,CS.levels,inline=True,fontsize=12)\n",
    "        cv1=asarray([0.001, 0.0011])\n",
    "        cv1=cv1*amax(g1)\n",
    "        ax.contour(x1,x2,g1,cv1,cmap='Greys')\n",
    "        cv2=asarray([0.001, 0.0011])*amax(g2)\n",
    "        ax.contour(x1,x2,g2,cv2,cmap='Greys')\n",
    "        cv3=asarray([0.001, 0.0015])*amax(g3)\n",
    "        ax.contour(x1,x2,g3,cv3,cmap='Greys')\n",
    "        cv4=asarray([0.05, 0.0499])*amin(g4)\n",
    "        ax.contour(x1,x2,g4,cv4,cmap='Greys')\n",
    "        fig.set_size_inches(14*2, 9*2) \n",
    "    xlim([min(xs1),max(xs1)])\n",
    "    ylim([min(xs2),max(xs2)])\n",
    "    DVn=2\n",
    "    xk=[-1,3.5]\n",
    "    Rk=2\n",
    "    delta=.000001\n",
    "    tol=.0001\n",
    "    k=0\n",
    "    iterN=int(0)\n",
    "    iter_x_history=[]\n",
    "    iter_y_history=[]\n",
    "    iter_f_history=[]\n",
    "    iterloop=0\n",
    "    start=time.perf_counter()\n",
    "    while 1:\n",
    "\n",
    "        fk,dfk=fx_fun(xk)\n",
    "        gk,dgk,hk,dhk=gx_fun(xk)\n",
    "        #print(\"gk:\"+str(gk))\n",
    "        iter_x_history=append(iter_x_history,xk[0])\n",
    "        iter_y_history=append(iter_y_history,xk[1])\n",
    "        iter_f_history=append(iter_f_history,fk)\n",
    "\n",
    "        ci=asarray(dfk)\n",
    "        A=asarray(dgk)\n",
    "        b=-asarray(gk)\n",
    "        Aeq=transpose(dhk)\n",
    "        beq=-asarray(hk)\n",
    "        H=eye(DVn)\n",
    "        # print(\"ci:\"+str(ci))\n",
    "        # print(\"A:\"+str(A))\n",
    "        # print(\"b:\"+str(b))\n",
    "        # print(\"Aeq:\"+str(Aeq))\n",
    "        # print(\"beq:\"+str(beq))\n",
    "        # print(\"H:\"+str(H))\n",
    "        dxp=solve_qp(H,ci,A,b)\n",
    "\n",
    "        dk=dxp\n",
    "        #print(\"dk\"+str(dk))\n",
    "        # print(\"rk:\"+str(Rk))\n",
    "        # print(\"delta:\"+str(delta))\n",
    "        # print(\"xk:\"+str(xk))\n",
    "        Vk=max([0,amax(gk)])\n",
    "\n",
    "        if Vk>0:\n",
    "            Rk=2.0\n",
    "\n",
    "        ak,fak,x_history,y_history=golden_section_fx_gx(fx_fun,gx_fun,xk,dk,Rk,delta)\n",
    "        #print(\"ak:\"+str(ak))\n",
    "        xlp=xk+ak*asarray(dk)\n",
    "        #print(\"xk:\"+str(xk))\n",
    "        xk=xlp\n",
    "        iterloop=iterloop+1\n",
    "        if linalg.norm(dk)<tol or iterloop>100:\n",
    "            stop=time.perf_counter()\n",
    "            break\n",
    "    elapsed=stop-start\n",
    "    f_opt=fx_fun([xk[0],xk[1]])\n",
    "    \n",
    "    #print(\"xk:\"+str(xk))    \n",
    "    #print(\"x_history:\"+str(iter_x_history))\n",
    "    #print(\"y_history:\"+str(iter_y_history))\n",
    "    #print(\"f_history:\"+str(iter_f_history))\n",
    "    if dimensions==2:\n",
    "        ax.scatter(iter_x_history,iter_y_history,55,color='white',label='Search Point')\n",
    "        ax.plot(iter_x_history,iter_y_history,'--',color='white',label='Search Path')\n",
    "        ax.scatter(iter_x_history[0],iter_y_history[0],100,color='black',label='Starting $x_k$')\n",
    "        ax.scatter(xk[0],xk[1],100,color='red',label='Optimum Design Point: ['+str(round(xk[0],5))+\", \"+str(round(xk[1],5))+'] at f='+str(round(f_opt[0],6))+'\\nConverged after: '+str(iterloop)+' loops and '+str(round(elapsed,8))+' seconds')\n",
    "        legend(loc=3,fontsize=24)\n",
    "        title(\"Sequential Quadratic Programming Method with Golden Step Size\",fontsize=24,pad=10)\n",
    "        xlabel(\"$x_1$ value\",fontsize=24)\n",
    "        ylabel(\"$x_2$ value\",fontsize=24);\n",
    "        \n",
    "    if dimensions==3:\n",
    "        plt.close()\n",
    "        fig = plt.figure()\n",
    "        ax = fig.add_subplot(111, projection='3d')\n",
    "        ax.scatter(iter_x_history,iter_y_history,iter_f_history,c='grey',label='Search Points')\n",
    "       # print(\"xk0:\"+str(xk[0]))\n",
    "       # print(\"xk1:\"+str(xk[1]))\n",
    "       # print(\"f_opt:\"+str(f_opt[0]))\n",
    "        ax.scatter(xk[0],xk[1],f_opt[0],c='red',s=150,label='Optimum Design Point: ['+str(round(xk[0],5))+\", \"+str(round(xk[1],5))+'] at f='+str(round(f_opt[0],6))+'\\nConverged after: '+str(iterloop)+' loops and '+str(round(elapsed,8))+' seconds')\n",
    "        ax.plot3D(iter_x_history,iter_y_history,iter_f_history,label=\"Search Path\")\n",
    "\n",
    "        xs1=transpose([array(linspace(-2.5,1,25))])\n",
    "        xs2=transpose([array(linspace(.1,4.25,25))])\n",
    "        CS1=ax.plot_surface(x1,x2,f,rstride=1,cstride=1,vmin=f_opt[0],vmax=vmax,alpha=.31,cmap=str(colormap))\n",
    "        cv1=asarray([0.001, 0.0011])\n",
    "        cv1=cv1*amax(g1)\n",
    "        ax.contour(x1,x2,g1,cv1,colors='red',linestyles='dashed')\n",
    "        cv2=asarray([0.001, 0.0011])*amax(g2)\n",
    "        ax.contour(x1,x2,g2,cv2,colors='red',linestyles='dashed')\n",
    "        cv3=asarray([0.001, 0.0015])*amax(g3)\n",
    "        ax.contour(x1,x2,g3,cv3,colors='red',linestyles='dashed')\n",
    "        cv4=asarray([0.05, 0.0499])*amin(g4)\n",
    "        ax.contour(x1,x2,g4,cv4,colors='red',linestyles='dashed')\n",
    "        xlabel('Study Parameter: $x_1$',fontsize=24,labelpad=15)\n",
    "        ylabel('Study Parameter: $x_2$',fontsize=24,labelpad=15)\n",
    "        title(\"Sequential Quadratic Programming Method with Golden Step Size 3D\",fontsize=24,pad=10)\n",
    "        ax.set_zlabel('Objective Function Value',fontsize=24,labelpad=20) \n",
    "        colorbar=plt.colorbar(CS1)\n",
    "        colorbar.set_label(\"Objective Function Value\",fontsize=24)\n",
    "        legend(loc=[0,-.15],fontsize=18)\n",
    "\n",
    "        fig.set_size_inches(14*2, 9*2) \n",
    "        #angle=225\n",
    "        ax.view_init(angle2, angle)\n",
    "    #axis.set_scale('log')\n",
    "    #ax.w_zaxis.set_major_locator(LinearLocator(10))\n",
    "    #ax.w_zaxis.set_major_formatter(FormatStrFormatter('%.03f'))\n",
    "    #ax.set_xlim3d(-2.5, 1)\n",
    "    #ax.set_ylim3d(-1, 4.25)\n",
    "    #ax.set_zlim3d(0, 150)\n",
    "    return xk;iter_x_history;iter_y_history;\n",
    "    "
   ]
  },
  {
   "cell_type": "code",
   "execution_count": 13,
   "metadata": {},
   "outputs": [
    {
     "data": {
      "application/vnd.jupyter.widget-view+json": {
       "model_id": "a334ab98b698421999c2c3d50b5dfd96",
       "version_major": 2,
       "version_minor": 0
      },
      "text/plain": [
       "interactive(children=(Dropdown(description='angle', options=(30, 0, 15, 30, 45, 60, 75, 90, 105, 120, 135, 150…"
      ]
     },
     "metadata": {},
     "output_type": "display_data"
    }
   ],
   "source": [
    "from ipywidgets import interactive\n",
    "interactive(SQP,angle=[30,0,15,30,45,60,75,90,105,120,135,150,165,180,195,210,225,240,255,270,285,300,315,330,345,360],angle2=[45,0,15,30,45,60,75,90,105,120,135,150,165,180,195,210,225,240,255,270,285,300,315,330,345,360],dimensions=[2,3],colormap=['jet', 'jet_r','Blues', 'Blues_r', 'BrBG', 'BrBG_r', 'BuGn', 'BuGn_r', 'BuPu', 'BuPu_r', 'CMRmap', 'CMRmap_r', 'Dark2', 'Dark2_r', 'GnBu', 'GnBu_r', 'Greens', 'Greens_r', 'Greys', 'Greys_r', 'OrRd', 'OrRd_r', 'Oranges', 'Oranges_r', 'PRGn', 'PRGn_r', 'Paired', 'Paired_r', 'Pastel1', 'Pastel1_r', 'Pastel2', 'Pastel2_r', 'PiYG', 'PiYG_r', 'PuBu', 'PuBuGn', 'PuBuGn_r', 'PuBu_r', 'PuOr', 'PuOr_r', 'PuRd', 'PuRd_r', 'Purples', 'Purples_r', 'RdBu', 'RdBu_r', 'RdGy', 'RdGy_r', 'RdPu', 'RdPu_r', 'RdYlBu', 'RdYlBu_r', 'RdYlGn', 'RdYlGn_r', 'Reds', 'Reds_r', 'Set1', 'Set1_r', 'Set2', 'Set2_r', 'Set3', 'Set3_r', 'Spectral', 'Spectral_r', 'Wistia', 'Wistia_r', 'YlGn', 'YlGnBu', 'YlGnBu_r', 'YlGn_r', 'YlOrBr', 'YlOrBr_r', 'YlOrRd', 'YlOrRd_r', 'afmhot', 'afmhot_r', 'autumn', 'autumn_r', 'binary', 'binary_r', 'bone', 'bone_r', 'brg', 'brg_r', 'bwr', 'bwr_r', 'cividis', 'cividis_r', 'cool', 'cool_r', 'coolwarm', 'coolwarm_r', 'copper', 'copper_r', 'cubehelix', 'cubehelix_r', 'flag', 'flag_r', 'gist_earth', 'gist_earth_r', 'gist_gray', 'gist_gray_r', 'gist_heat', 'gist_heat_r', 'gist_ncar', 'gist_ncar_r', 'gist_rainbow', 'gist_rainbow_r', 'gist_stern', 'gist_stern_r', 'gist_yarg', 'gist_yarg_r', 'gnuplot', 'gnuplot2', 'gnuplot2_r', 'gnuplot_r', 'gray', 'gray_r', 'hot', 'hot_r', 'hsv', 'hsv_r', 'inferno', 'inferno_r', 'jet', 'jet_r', 'magma', 'magma_r', 'nipy_spectral', 'nipy_spectral_r', 'ocean', 'ocean_r', 'pink', 'pink_r', 'plasma', 'plasma_r', 'prism', 'prism_r', 'rainbow', 'rainbow_r', 'seismic', 'seismic_r', 'spring', 'spring_r', 'summer', 'summer_r', 'tab10', 'tab10_r', 'tab20', 'tab20_r', 'tab20b', 'tab20b_r', 'tab20c', 'tab20c_r', 'terrain', 'terrain_r', 'turbo', 'turbo_r', 'twilight', 'twilight_r', 'twilight_shifted', 'twilight_shifted_r', 'viridis', 'viridis_r', 'winter', 'winter_r']\\\n",
    ",vmax=(10,250,5))#vmax=[40,5,10,15,20,25,30,35,40,45,40,45,50,55,60,65,70,75,80,85,90,95,100,105,110,115,120,125,130,135,140,145,150])"
   ]
  },
  {
   "cell_type": "code",
   "execution_count": null,
   "metadata": {
    "scrolled": false
   },
   "outputs": [],
   "source": []
  },
  {
   "cell_type": "raw",
   "metadata": {},
   "source": []
  },
  {
   "cell_type": "code",
   "execution_count": 217,
   "metadata": {
    "scrolled": false
   },
   "outputs": [
    {
     "data": {
      "text/plain": [
       "<function matplotlib.pyplot.colorbar(mappable=None, cax=None, ax=None, **kw)>"
      ]
     },
     "execution_count": 217,
     "metadata": {},
     "output_type": "execute_result"
    }
   ],
   "source": [
    "plt.colorbar"
   ]
  },
  {
   "cell_type": "code",
   "execution_count": null,
   "metadata": {
    "scrolled": false
   },
   "outputs": [],
   "source": []
  },
  {
   "cell_type": "code",
   "execution_count": null,
   "metadata": {
    "scrolled": false
   },
   "outputs": [],
   "source": []
  },
  {
   "cell_type": "code",
   "execution_count": null,
   "metadata": {
    "scrolled": false
   },
   "outputs": [],
   "source": []
  },
  {
   "cell_type": "code",
   "execution_count": null,
   "metadata": {
    "scrolled": false
   },
   "outputs": [],
   "source": [
    "\n"
   ]
  },
  {
   "cell_type": "code",
   "execution_count": null,
   "metadata": {
    "scrolled": false
   },
   "outputs": [],
   "source": []
  },
  {
   "cell_type": "code",
   "execution_count": null,
   "metadata": {
    "scrolled": false
   },
   "outputs": [],
   "source": []
  },
  {
   "cell_type": "code",
   "execution_count": null,
   "metadata": {
    "scrolled": false
   },
   "outputs": [],
   "source": []
  },
  {
   "cell_type": "code",
   "execution_count": null,
   "metadata": {
    "scrolled": false
   },
   "outputs": [],
   "source": []
  },
  {
   "cell_type": "code",
   "execution_count": null,
   "metadata": {
    "scrolled": false
   },
   "outputs": [],
   "source": []
  },
  {
   "cell_type": "code",
   "execution_count": null,
   "metadata": {
    "scrolled": false
   },
   "outputs": [],
   "source": []
  },
  {
   "cell_type": "code",
   "execution_count": null,
   "metadata": {
    "scrolled": false
   },
   "outputs": [],
   "source": []
  }
 ],
 "metadata": {
  "kernelspec": {
   "display_name": "Python 3",
   "language": "python",
   "name": "python3"
  },
  "language_info": {
   "codemirror_mode": {
    "name": "ipython",
    "version": 3
   },
   "file_extension": ".py",
   "mimetype": "text/x-python",
   "name": "python",
   "nbconvert_exporter": "python",
   "pygments_lexer": "ipython3",
   "version": "3.8.3"
  }
 },
 "nbformat": 4,
 "nbformat_minor": 4
}
